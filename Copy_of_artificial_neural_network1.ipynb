{
  "cells": [
    {
      "attachments": {},
      "cell_type": "markdown",
      "metadata": {
        "id": "lP6JLo1tGNBg"
      },
      "source": [
        "# Artificial Neural Network"
      ]
    },
    {
      "attachments": {},
      "cell_type": "markdown",
      "metadata": {
        "id": "gWZyYmS_UE_L"
      },
      "source": [
        "### Importing the libraries"
      ]
    },
    {
      "cell_type": "code",
      "execution_count": 85,
      "metadata": {
        "id": "MxkJoQBkUIHC"
      },
      "outputs": [],
      "source": [
        "import numpy as np\n",
        "import pandas as pd\n",
        "import tensorflow as tf\n",
        "import pickle"
      ]
    },
    {
      "cell_type": "code",
      "execution_count": 86,
      "metadata": {
        "colab": {
          "base_uri": "https://localhost:8080/",
          "height": 35
        },
        "id": "ZaTwK7ojXr2F",
        "outputId": "89c7139b-a2d3-497b-eb39-203c8e2e72d4"
      },
      "outputs": [
        {
          "data": {
            "text/plain": [
              "'2.12.0'"
            ]
          },
          "execution_count": 86,
          "metadata": {},
          "output_type": "execute_result"
        }
      ],
      "source": [
        "tf.__version__"
      ]
    },
    {
      "cell_type": "code",
      "execution_count": 87,
      "metadata": {
        "colab": {
          "base_uri": "https://localhost:8080/",
          "height": 35
        },
        "id": "LU9Bb0xl4hSp",
        "outputId": "314aa796-ecbb-4c69-9161-3358e78966fa"
      },
      "outputs": [
        {
          "data": {
            "text/plain": [
              "'1.24.4'"
            ]
          },
          "execution_count": 87,
          "metadata": {},
          "output_type": "execute_result"
        }
      ],
      "source": [
        "np.__version__"
      ]
    },
    {
      "cell_type": "code",
      "execution_count": 88,
      "metadata": {
        "colab": {
          "base_uri": "https://localhost:8080/",
          "height": 35
        },
        "id": "Ejk-bQHx4qcN",
        "outputId": "b62b7284-7543-4235-e9d7-fe029e6bec85"
      },
      "outputs": [
        {
          "data": {
            "text/plain": [
              "'2.0.2'"
            ]
          },
          "execution_count": 88,
          "metadata": {},
          "output_type": "execute_result"
        }
      ],
      "source": [
        "pd.__version__"
      ]
    },
    {
      "attachments": {},
      "cell_type": "markdown",
      "metadata": {
        "id": "1E0Q3aoKUCRX"
      },
      "source": [
        "## Part 1 - Data Preprocessing"
      ]
    },
    {
      "attachments": {},
      "cell_type": "markdown",
      "metadata": {
        "id": "cKWAkFVGUU0Z"
      },
      "source": [
        "### Importing the dataset"
      ]
    },
    {
      "cell_type": "code",
      "execution_count": 89,
      "metadata": {
        "id": "MXUkhkMfU4wq"
      },
      "outputs": [],
      "source": [
        "dataset = pd.read_csv('evaluation.csv')\n",
        "#X is the data except the last column\n",
        "X = dataset.iloc[:, :-1].values\n",
        "y = dataset.iloc[:, -1].values"
      ]
    },
    {
      "cell_type": "code",
      "execution_count": 90,
      "metadata": {
        "colab": {
          "base_uri": "https://localhost:8080/"
        },
        "id": "VYP9cQTWbzuI",
        "outputId": "4b105785-9b00-48ac-b11d-054e33272983"
      },
      "outputs": [
        {
          "name": "stdout",
          "output_type": "stream",
          "text": [
            "[[ 0.33333333 -1.          0.        ]\n",
            " [ 1.         -1.          0.        ]\n",
            " [ 2.          0.          0.        ]\n",
            " ...\n",
            " [ 0.66666667  2.          1.        ]\n",
            " [ 1.33333333  2.          1.        ]\n",
            " [ 1.33333333  2.          1.        ]]\n"
          ]
        }
      ],
      "source": [
        "print(X)"
      ]
    },
    {
      "cell_type": "code",
      "execution_count": 91,
      "metadata": {
        "colab": {
          "base_uri": "https://localhost:8080/"
        },
        "id": "38vKGE6Nb2RR",
        "outputId": "e6998d1d-272d-4669-da28-4d85e575fe89"
      },
      "outputs": [
        {
          "name": "stdout",
          "output_type": "stream",
          "text": [
            "[0 0 0 ... 1 1 1]\n"
          ]
        }
      ],
      "source": [
        "print(y)"
      ]
    },
    {
      "attachments": {},
      "cell_type": "markdown",
      "metadata": {
        "id": "vHol938cW8zd"
      },
      "source": [
        "### Splitting the dataset into the Training set and Test set"
      ]
    },
    {
      "cell_type": "code",
      "execution_count": 92,
      "metadata": {
        "id": "Z-TDt0Y_XEfc"
      },
      "outputs": [],
      "source": [
        "from sklearn.model_selection import train_test_split\n",
        "X_train, X_test, y_train, y_test = train_test_split(X, y, test_size = 0.2, random_state = 0)"
      ]
    },
    {
      "cell_type": "code",
      "execution_count": 93,
      "metadata": {},
      "outputs": [
        {
          "data": {
            "text/plain": [
              "array([[0.66666667, 0.        , 0.        ],\n",
              "       [0.66666667, 0.        , 0.        ],\n",
              "       [1.33333333, 0.        , 0.        ],\n",
              "       ...,\n",
              "       [1.33333333, 0.        , 0.        ],\n",
              "       [0.        , 0.        , 0.        ],\n",
              "       [0.66666667, 0.        , 0.        ]])"
            ]
          },
          "execution_count": 93,
          "metadata": {},
          "output_type": "execute_result"
        }
      ],
      "source": [
        "X_train"
      ]
    },
    {
      "attachments": {},
      "cell_type": "markdown",
      "metadata": {
        "id": "RE_FcHyfV3TQ"
      },
      "source": [
        "### Feature Scaling"
      ]
    },
    {
      "cell_type": "code",
      "execution_count": 94,
      "metadata": {
        "id": "ViCrE00rV8Sk"
      },
      "outputs": [],
      "source": [
        "from sklearn.preprocessing import StandardScaler\n",
        "sc = StandardScaler()\n",
        "X_train = sc.fit_transform(X_train)\n",
        "X_test = sc.transform(X_test)"
      ]
    },
    {
      "cell_type": "code",
      "execution_count": 95,
      "metadata": {},
      "outputs": [
        {
          "data": {
            "text/plain": [
              "array([[-0.84997249, -0.34874595, -0.46824282],\n",
              "       [-0.84997249, -0.34874595, -0.46824282],\n",
              "       [ 0.0477402 , -0.34874595, -0.46824282],\n",
              "       ...,\n",
              "       [ 0.0477402 , -0.34874595, -0.46824282],\n",
              "       [-1.74768519, -0.34874595, -0.46824282],\n",
              "       [-0.84997249, -0.34874595, -0.46824282]])"
            ]
          },
          "execution_count": 95,
          "metadata": {},
          "output_type": "execute_result"
        }
      ],
      "source": [
        "X_train"
      ]
    },
    {
      "cell_type": "code",
      "execution_count": 96,
      "metadata": {
        "colab": {
          "base_uri": "https://localhost:8080/"
        },
        "id": "ppmgkFHlEv6h",
        "outputId": "db171125-75c6-41c5-ee99-1cc56ad5d132"
      },
      "outputs": [
        {
          "data": {
            "text/plain": [
              "array([0, 0, 0, 1, 1, 1, 1, 0, 0, 0, 0, 0, 0, 1, 0, 1, 1, 0, 0, 0, 0, 0,\n",
              "       1, 0, 0, 1, 1, 0, 1, 1, 1, 0, 0, 0, 1, 1, 0, 0, 0, 0, 0, 0, 0, 0,\n",
              "       0, 0, 1, 0, 1, 1, 0, 1, 0, 0, 0, 0, 0, 0, 0, 0, 0, 0, 0, 1, 0, 1,\n",
              "       1, 1, 0, 0, 0, 0, 0, 1, 1, 0, 0, 1, 0, 0, 0, 0, 1, 0, 0, 1, 1, 1,\n",
              "       1, 1, 1, 0, 0, 0, 0, 0, 0, 0, 1, 0, 0, 0, 1, 0, 0, 0, 0, 0, 0, 0,\n",
              "       1, 1, 0, 0, 0, 1, 0, 0, 0, 0, 0, 0, 1, 1, 0, 0, 0, 0, 0, 0, 0, 1,\n",
              "       0, 0, 1, 0, 0, 0, 1, 0, 0, 0, 0, 0, 0, 0, 0, 0, 0, 0, 0, 1, 0, 0,\n",
              "       0, 1, 0, 0, 0, 0, 0, 0, 0, 1, 0, 0, 0, 0, 0, 0, 1, 1, 0, 0, 0, 0,\n",
              "       1, 0, 0, 0, 0, 1, 1, 0, 0, 0, 1, 0, 0, 1, 0, 0, 0, 1, 1, 0, 0, 0,\n",
              "       0, 0, 0, 0, 0, 0, 0, 0, 0, 0, 0, 0, 0, 0, 1, 0, 0, 1, 0, 0, 0, 0,\n",
              "       0, 0, 0, 1, 0, 1, 1, 0, 0, 0, 0, 0, 0, 0, 1, 0, 0, 0, 1, 1, 0, 1,\n",
              "       0, 0, 0, 1, 0, 0, 0, 0, 0, 0, 0, 0, 0, 0, 1, 0, 0, 0, 0, 0, 0, 1,\n",
              "       0, 1, 0, 1, 1, 0, 0, 0, 0, 1, 1, 1, 0, 0, 0, 0, 1, 0, 0, 0, 0, 0,\n",
              "       0, 0, 0, 0, 0, 1, 0, 0, 1, 0, 0, 0, 0, 0, 0, 0, 0, 0, 0, 0, 0, 0,\n",
              "       0, 0, 0, 0, 0, 1, 0, 1, 0, 0, 0, 0, 0, 0, 0, 1, 0, 0, 0, 0, 0, 0,\n",
              "       1, 0, 0, 1, 0, 1, 0, 0, 0, 1, 0, 1, 1, 1, 0, 0, 0, 0, 0, 1, 1, 0,\n",
              "       1, 0, 1, 0, 0, 0, 1, 1, 0, 1, 0, 0, 0, 1, 0, 1, 0, 0, 1, 0, 1, 1,\n",
              "       0, 1, 0, 0, 0, 0, 1, 0, 0, 1, 0, 0, 0, 0, 0, 0, 0, 0, 0, 0, 0, 1,\n",
              "       0, 1, 0, 0, 0, 0, 0, 0, 0, 0, 0, 0, 0, 0, 0, 1, 1, 1, 0, 0, 1, 0,\n",
              "       0, 0, 0, 1, 0, 0, 0, 0, 0, 1, 0, 0, 1, 1, 0, 0, 0, 0, 0, 1, 0, 0,\n",
              "       0, 0, 0, 1, 0, 1, 0, 1, 1, 0, 0, 1, 0, 1, 0, 0, 0, 1, 0, 0, 0, 0,\n",
              "       1, 1, 0, 1, 0, 0, 1, 0, 1, 0, 0, 1, 0, 1, 0, 0, 0, 1, 0, 0, 0, 0,\n",
              "       0, 0, 0, 0, 0, 1, 1, 1, 0, 1, 0, 0, 0, 0, 1, 0, 0, 1, 1, 0, 0, 0,\n",
              "       0, 0, 0, 0, 0, 0, 1, 0, 0, 0, 0, 0, 0, 1, 0, 0, 0, 0, 1, 0, 0, 0,\n",
              "       0, 1, 1, 0, 0, 0, 0, 0, 0, 1, 0, 0, 1, 0, 1, 0, 0, 0, 1, 1, 1, 0,\n",
              "       1, 0, 0, 0, 1, 0, 1, 0, 1, 0, 1, 0, 0, 0, 0, 1, 0, 0, 1, 0, 0, 0,\n",
              "       1, 0, 0, 0, 0, 0, 0, 0, 1, 0, 0, 0, 0, 0, 0, 1, 0, 1, 1, 1, 0, 0,\n",
              "       0, 0, 0, 0, 0, 0, 0, 0, 1, 0, 0, 0, 0, 1, 0, 1, 0, 0, 0, 0, 0, 1,\n",
              "       0, 0, 0, 0, 1, 1, 1, 1, 1, 0, 0, 0, 0, 0, 0, 0, 0, 0, 1, 0, 0, 0,\n",
              "       0, 0, 0, 0, 0, 1, 1, 0, 0, 0, 0, 0, 1, 1, 1, 1, 0, 0, 0, 0, 0, 0,\n",
              "       0, 0, 0, 0, 0, 0, 0, 0, 0, 1, 0, 1, 0, 0, 1, 0, 0, 1, 0, 1, 0, 1,\n",
              "       1, 0, 0, 1, 0, 0, 0, 0, 0, 0, 0, 0, 1, 1, 0, 0, 0, 0, 1, 1, 0, 0,\n",
              "       1, 0, 0, 0, 0, 0, 1, 1, 1, 0, 0, 0, 0, 1, 0, 0, 0, 0, 0, 0, 0, 0,\n",
              "       1, 0, 0, 0, 0, 0, 1, 0, 0, 0, 0, 0, 0, 1, 1, 1, 0, 0, 0, 0, 0, 1,\n",
              "       0, 0, 1, 1, 0, 0, 0, 0, 1, 1, 1, 0, 0, 0, 0, 1, 0, 0, 0, 1, 0, 1,\n",
              "       0, 0, 0, 0, 1, 0, 1, 1, 1, 1, 0, 0, 0, 0, 0, 1, 0, 0, 0, 0, 1, 0,\n",
              "       1, 0, 0, 0, 1, 0, 0, 0, 0, 0, 0, 0, 0, 0, 0, 1, 0, 0, 1, 0, 0, 0,\n",
              "       0, 0, 0, 0, 1, 0, 0, 0, 0, 1, 0, 0, 0, 0, 1, 0, 1, 0, 0, 0, 0, 0,\n",
              "       0, 1, 0, 0, 1, 1, 1, 1, 1, 1, 0, 0, 0, 0, 0, 1, 0, 0, 0, 0, 0, 0,\n",
              "       0, 0, 1, 1, 1, 0, 0, 0, 0, 1, 1, 0, 0, 0, 1, 0, 0, 0, 0, 0, 0, 0,\n",
              "       0, 0, 0, 1, 0, 0, 1, 0, 1, 0, 0, 1, 0, 0, 0, 1, 0, 1, 0, 0, 0, 0,\n",
              "       0, 0, 1, 0, 0, 1, 0, 1, 0, 0])"
            ]
          },
          "execution_count": 96,
          "metadata": {},
          "output_type": "execute_result"
        }
      ],
      "source": [
        "y_train"
      ]
    },
    {
      "attachments": {},
      "cell_type": "markdown",
      "metadata": {
        "id": "-zfEzkRVXIwF"
      },
      "source": [
        "## Part 2 - Building the ANN"
      ]
    },
    {
      "attachments": {},
      "cell_type": "markdown",
      "metadata": {
        "id": "KvdeScabXtlB"
      },
      "source": [
        "### Initializing the ANN"
      ]
    },
    {
      "cell_type": "code",
      "execution_count": 97,
      "metadata": {
        "id": "3dtrScHxXQox"
      },
      "outputs": [],
      "source": [
        "ann = tf.keras.models.Sequential()"
      ]
    },
    {
      "attachments": {},
      "cell_type": "markdown",
      "metadata": {
        "id": "rP6urV6SX7kS"
      },
      "source": [
        "### Adding the input layer and the first hidden layer"
      ]
    },
    {
      "cell_type": "code",
      "execution_count": 98,
      "metadata": {
        "id": "bppGycBXYCQr"
      },
      "outputs": [],
      "source": [
        "ann.add(tf.keras.layers.Dense(units=6, activation='relu'))"
      ]
    },
    {
      "attachments": {},
      "cell_type": "markdown",
      "metadata": {
        "id": "BELWAc_8YJze"
      },
      "source": [
        "### Adding the second hidden layer"
      ]
    },
    {
      "cell_type": "code",
      "execution_count": 99,
      "metadata": {
        "id": "JneR0u0sYRTd"
      },
      "outputs": [],
      "source": [
        "ann.add(tf.keras.layers.Dense(units=6, activation='relu'))"
      ]
    },
    {
      "attachments": {},
      "cell_type": "markdown",
      "metadata": {
        "id": "OyNEe6RXYcU4"
      },
      "source": [
        "### Adding the output layer"
      ]
    },
    {
      "cell_type": "code",
      "execution_count": 100,
      "metadata": {
        "id": "Cn3x41RBYfvY"
      },
      "outputs": [],
      "source": [
        "ann.add(tf.keras.layers.Dense(units=1, activation='sigmoid'))"
      ]
    },
    {
      "attachments": {},
      "cell_type": "markdown",
      "metadata": {
        "id": "JT4u2S1_Y4WG"
      },
      "source": [
        "## Part 3 - Training the ANN"
      ]
    },
    {
      "attachments": {},
      "cell_type": "markdown",
      "metadata": {
        "id": "8GWlJChhY_ZI"
      },
      "source": [
        "### Compiling the ANN"
      ]
    },
    {
      "cell_type": "code",
      "execution_count": 101,
      "metadata": {
        "id": "fG3RrwDXZEaS"
      },
      "outputs": [],
      "source": [
        "ann.compile(optimizer = 'adam', loss = 'binary_crossentropy', metrics = ['accuracy'])"
      ]
    },
    {
      "attachments": {},
      "cell_type": "markdown",
      "metadata": {
        "id": "0QR_G5u7ZLSM"
      },
      "source": [
        "### Training the ANN on the Training set"
      ]
    },
    {
      "cell_type": "code",
      "execution_count": 102,
      "metadata": {
        "colab": {
          "base_uri": "https://localhost:8080/"
        },
        "id": "nHZ-LKv_ZRb3",
        "outputId": "77373f9c-440d-4753-ceed-b40aafc10deb"
      },
      "outputs": [
        {
          "name": "stdout",
          "output_type": "stream",
          "text": [
            "Epoch 1/100\n"
          ]
        },
        {
          "name": "stdout",
          "output_type": "stream",
          "text": [
            "29/29 [==============================] - 2s 3ms/step - loss: 0.6962 - accuracy: 0.4364\n",
            "Epoch 2/100\n",
            "29/29 [==============================] - 0s 3ms/step - loss: 0.6416 - accuracy: 0.5680\n",
            "Epoch 3/100\n",
            "29/29 [==============================] - 0s 3ms/step - loss: 0.5958 - accuracy: 0.7303\n",
            "Epoch 4/100\n",
            "29/29 [==============================] - 0s 3ms/step - loss: 0.5534 - accuracy: 0.7336\n",
            "Epoch 5/100\n",
            "29/29 [==============================] - 0s 3ms/step - loss: 0.5146 - accuracy: 0.7336\n",
            "Epoch 6/100\n",
            "29/29 [==============================] - 0s 3ms/step - loss: 0.4794 - accuracy: 0.7346\n",
            "Epoch 7/100\n",
            "29/29 [==============================] - 0s 3ms/step - loss: 0.4436 - accuracy: 0.7939\n",
            "Epoch 8/100\n",
            "29/29 [==============================] - 0s 3ms/step - loss: 0.4053 - accuracy: 0.8904\n",
            "Epoch 9/100\n",
            "29/29 [==============================] - 0s 3ms/step - loss: 0.3648 - accuracy: 0.9112\n",
            "Epoch 10/100\n",
            "29/29 [==============================] - 0s 3ms/step - loss: 0.3274 - accuracy: 0.9123\n",
            "Epoch 11/100\n",
            "29/29 [==============================] - 0s 3ms/step - loss: 0.2925 - accuracy: 0.9123\n",
            "Epoch 12/100\n",
            "29/29 [==============================] - 0s 2ms/step - loss: 0.2615 - accuracy: 0.9397\n",
            "Epoch 13/100\n",
            "29/29 [==============================] - 0s 2ms/step - loss: 0.2337 - accuracy: 0.9518\n",
            "Epoch 14/100\n",
            "29/29 [==============================] - 0s 3ms/step - loss: 0.2119 - accuracy: 0.9561\n",
            "Epoch 15/100\n",
            "29/29 [==============================] - 0s 3ms/step - loss: 0.1960 - accuracy: 0.9507\n",
            "Epoch 16/100\n",
            "29/29 [==============================] - 0s 7ms/step - loss: 0.1846 - accuracy: 0.9518\n",
            "Epoch 17/100\n",
            "29/29 [==============================] - 0s 10ms/step - loss: 0.1771 - accuracy: 0.9518\n",
            "Epoch 18/100\n",
            "29/29 [==============================] - 0s 9ms/step - loss: 0.1715 - accuracy: 0.9518\n",
            "Epoch 19/100\n",
            "29/29 [==============================] - 0s 9ms/step - loss: 0.1678 - accuracy: 0.9518\n",
            "Epoch 20/100\n",
            "29/29 [==============================] - 0s 6ms/step - loss: 0.1650 - accuracy: 0.9518\n",
            "Epoch 21/100\n",
            "29/29 [==============================] - 0s 10ms/step - loss: 0.1627 - accuracy: 0.9518\n",
            "Epoch 22/100\n",
            "29/29 [==============================] - 0s 9ms/step - loss: 0.1610 - accuracy: 0.9518\n",
            "Epoch 23/100\n",
            "29/29 [==============================] - 0s 10ms/step - loss: 0.1597 - accuracy: 0.9518\n",
            "Epoch 24/100\n",
            "29/29 [==============================] - 0s 9ms/step - loss: 0.1584 - accuracy: 0.9518\n",
            "Epoch 25/100\n",
            "29/29 [==============================] - 0s 8ms/step - loss: 0.1573 - accuracy: 0.9518\n",
            "Epoch 26/100\n",
            "29/29 [==============================] - 0s 6ms/step - loss: 0.1563 - accuracy: 0.9507\n",
            "Epoch 27/100\n",
            "29/29 [==============================] - 0s 8ms/step - loss: 0.1553 - accuracy: 0.9561\n",
            "Epoch 28/100\n",
            "29/29 [==============================] - 0s 3ms/step - loss: 0.1545 - accuracy: 0.9561\n",
            "Epoch 29/100\n",
            "29/29 [==============================] - 0s 3ms/step - loss: 0.1539 - accuracy: 0.9561\n",
            "Epoch 30/100\n",
            "29/29 [==============================] - 0s 3ms/step - loss: 0.1532 - accuracy: 0.9561\n",
            "Epoch 31/100\n",
            "29/29 [==============================] - 0s 3ms/step - loss: 0.1526 - accuracy: 0.9561\n",
            "Epoch 32/100\n",
            "29/29 [==============================] - 0s 3ms/step - loss: 0.1520 - accuracy: 0.9561\n",
            "Epoch 33/100\n",
            "29/29 [==============================] - 0s 3ms/step - loss: 0.1515 - accuracy: 0.9561\n",
            "Epoch 34/100\n",
            "29/29 [==============================] - 0s 3ms/step - loss: 0.1512 - accuracy: 0.9561\n",
            "Epoch 35/100\n",
            "29/29 [==============================] - 0s 4ms/step - loss: 0.1508 - accuracy: 0.9561\n",
            "Epoch 36/100\n",
            "29/29 [==============================] - 0s 5ms/step - loss: 0.1506 - accuracy: 0.9561\n",
            "Epoch 37/100\n",
            "29/29 [==============================] - 0s 7ms/step - loss: 0.1503 - accuracy: 0.9572\n",
            "Epoch 38/100\n",
            "29/29 [==============================] - 0s 3ms/step - loss: 0.1499 - accuracy: 0.9572\n",
            "Epoch 39/100\n",
            "29/29 [==============================] - 0s 3ms/step - loss: 0.1500 - accuracy: 0.9572\n",
            "Epoch 40/100\n",
            "29/29 [==============================] - 0s 3ms/step - loss: 0.1495 - accuracy: 0.9572\n",
            "Epoch 41/100\n",
            "29/29 [==============================] - 0s 3ms/step - loss: 0.1493 - accuracy: 0.9572\n",
            "Epoch 42/100\n",
            "29/29 [==============================] - 0s 3ms/step - loss: 0.1493 - accuracy: 0.9572\n",
            "Epoch 43/100\n",
            "29/29 [==============================] - 0s 3ms/step - loss: 0.1490 - accuracy: 0.9572\n",
            "Epoch 44/100\n",
            "29/29 [==============================] - 0s 3ms/step - loss: 0.1493 - accuracy: 0.9572\n",
            "Epoch 45/100\n",
            "29/29 [==============================] - 0s 3ms/step - loss: 0.1488 - accuracy: 0.9572\n",
            "Epoch 46/100\n",
            "29/29 [==============================] - 0s 3ms/step - loss: 0.1486 - accuracy: 0.9572\n",
            "Epoch 47/100\n",
            "29/29 [==============================] - 0s 3ms/step - loss: 0.1486 - accuracy: 0.9572\n",
            "Epoch 48/100\n",
            "29/29 [==============================] - 0s 3ms/step - loss: 0.1484 - accuracy: 0.9572\n",
            "Epoch 49/100\n",
            "29/29 [==============================] - 0s 3ms/step - loss: 0.1484 - accuracy: 0.9572\n",
            "Epoch 50/100\n",
            "29/29 [==============================] - 0s 3ms/step - loss: 0.1483 - accuracy: 0.9572\n",
            "Epoch 51/100\n",
            "29/29 [==============================] - 0s 3ms/step - loss: 0.1482 - accuracy: 0.9572\n",
            "Epoch 52/100\n",
            "29/29 [==============================] - 0s 3ms/step - loss: 0.1480 - accuracy: 0.9572\n",
            "Epoch 53/100\n",
            "29/29 [==============================] - 0s 3ms/step - loss: 0.1484 - accuracy: 0.9539\n",
            "Epoch 54/100\n",
            "29/29 [==============================] - 0s 3ms/step - loss: 0.1483 - accuracy: 0.9572\n",
            "Epoch 55/100\n",
            "29/29 [==============================] - 0s 3ms/step - loss: 0.1478 - accuracy: 0.9572\n",
            "Epoch 56/100\n",
            "29/29 [==============================] - 0s 3ms/step - loss: 0.1479 - accuracy: 0.9572\n",
            "Epoch 57/100\n",
            "29/29 [==============================] - 0s 3ms/step - loss: 0.1479 - accuracy: 0.9572\n",
            "Epoch 58/100\n",
            "29/29 [==============================] - 0s 3ms/step - loss: 0.1481 - accuracy: 0.9572\n",
            "Epoch 59/100\n",
            "29/29 [==============================] - 0s 3ms/step - loss: 0.1476 - accuracy: 0.9572\n",
            "Epoch 60/100\n",
            "29/29 [==============================] - 0s 3ms/step - loss: 0.1476 - accuracy: 0.9572\n",
            "Epoch 61/100\n",
            "29/29 [==============================] - 0s 3ms/step - loss: 0.1477 - accuracy: 0.9572\n",
            "Epoch 62/100\n",
            "29/29 [==============================] - 0s 3ms/step - loss: 0.1476 - accuracy: 0.9572\n",
            "Epoch 63/100\n",
            "29/29 [==============================] - 0s 3ms/step - loss: 0.1476 - accuracy: 0.9572\n",
            "Epoch 64/100\n",
            "29/29 [==============================] - 0s 3ms/step - loss: 0.1473 - accuracy: 0.9572\n",
            "Epoch 65/100\n",
            "29/29 [==============================] - 0s 3ms/step - loss: 0.1475 - accuracy: 0.9572\n",
            "Epoch 66/100\n",
            "29/29 [==============================] - 0s 3ms/step - loss: 0.1476 - accuracy: 0.9561\n",
            "Epoch 67/100\n",
            "29/29 [==============================] - 0s 3ms/step - loss: 0.1472 - accuracy: 0.9583\n",
            "Epoch 68/100\n",
            "29/29 [==============================] - 0s 3ms/step - loss: 0.1473 - accuracy: 0.9572\n",
            "Epoch 69/100\n",
            "29/29 [==============================] - 0s 3ms/step - loss: 0.1478 - accuracy: 0.9572\n",
            "Epoch 70/100\n",
            "29/29 [==============================] - 0s 3ms/step - loss: 0.1472 - accuracy: 0.9583\n",
            "Epoch 71/100\n",
            "29/29 [==============================] - 0s 3ms/step - loss: 0.1471 - accuracy: 0.9572\n",
            "Epoch 72/100\n",
            "29/29 [==============================] - 0s 3ms/step - loss: 0.1473 - accuracy: 0.9550\n",
            "Epoch 73/100\n",
            "29/29 [==============================] - 0s 3ms/step - loss: 0.1471 - accuracy: 0.9561\n",
            "Epoch 74/100\n",
            "29/29 [==============================] - 0s 3ms/step - loss: 0.1471 - accuracy: 0.9572\n",
            "Epoch 75/100\n",
            "29/29 [==============================] - 0s 5ms/step - loss: 0.1471 - accuracy: 0.9550\n",
            "Epoch 76/100\n",
            "29/29 [==============================] - 0s 5ms/step - loss: 0.1470 - accuracy: 0.9572\n",
            "Epoch 77/100\n",
            "29/29 [==============================] - 0s 3ms/step - loss: 0.1472 - accuracy: 0.9561\n",
            "Epoch 78/100\n",
            "29/29 [==============================] - 0s 3ms/step - loss: 0.1471 - accuracy: 0.9572\n",
            "Epoch 79/100\n",
            "29/29 [==============================] - 0s 3ms/step - loss: 0.1470 - accuracy: 0.9572\n",
            "Epoch 80/100\n",
            "29/29 [==============================] - 0s 3ms/step - loss: 0.1469 - accuracy: 0.9572\n",
            "Epoch 81/100\n",
            "29/29 [==============================] - 0s 3ms/step - loss: 0.1469 - accuracy: 0.9572\n",
            "Epoch 82/100\n",
            "29/29 [==============================] - 0s 3ms/step - loss: 0.1470 - accuracy: 0.9561\n",
            "Epoch 83/100\n",
            "29/29 [==============================] - 0s 2ms/step - loss: 0.1471 - accuracy: 0.9572\n",
            "Epoch 84/100\n",
            "29/29 [==============================] - 0s 2ms/step - loss: 0.1473 - accuracy: 0.9572\n",
            "Epoch 85/100\n",
            "29/29 [==============================] - 0s 2ms/step - loss: 0.1468 - accuracy: 0.9572\n",
            "Epoch 86/100\n",
            "29/29 [==============================] - 0s 2ms/step - loss: 0.1472 - accuracy: 0.9572\n",
            "Epoch 87/100\n",
            "29/29 [==============================] - 0s 3ms/step - loss: 0.1468 - accuracy: 0.9550\n",
            "Epoch 88/100\n",
            "29/29 [==============================] - 0s 4ms/step - loss: 0.1468 - accuracy: 0.9572\n",
            "Epoch 89/100\n",
            "29/29 [==============================] - 0s 4ms/step - loss: 0.1470 - accuracy: 0.9572\n",
            "Epoch 90/100\n",
            "29/29 [==============================] - 0s 4ms/step - loss: 0.1469 - accuracy: 0.9572\n",
            "Epoch 91/100\n",
            "29/29 [==============================] - 0s 3ms/step - loss: 0.1468 - accuracy: 0.9572\n",
            "Epoch 92/100\n",
            "29/29 [==============================] - 0s 2ms/step - loss: 0.1467 - accuracy: 0.9572\n",
            "Epoch 93/100\n",
            "29/29 [==============================] - 0s 3ms/step - loss: 0.1469 - accuracy: 0.9572\n",
            "Epoch 94/100\n",
            "29/29 [==============================] - 0s 4ms/step - loss: 0.1468 - accuracy: 0.9572\n",
            "Epoch 95/100\n",
            "29/29 [==============================] - 0s 6ms/step - loss: 0.1469 - accuracy: 0.9561\n",
            "Epoch 96/100\n",
            "29/29 [==============================] - 0s 4ms/step - loss: 0.1471 - accuracy: 0.9572\n",
            "Epoch 97/100\n",
            "29/29 [==============================] - 0s 3ms/step - loss: 0.1468 - accuracy: 0.9572\n",
            "Epoch 98/100\n",
            "29/29 [==============================] - 0s 3ms/step - loss: 0.1467 - accuracy: 0.9572\n",
            "Epoch 99/100\n",
            "29/29 [==============================] - 0s 4ms/step - loss: 0.1467 - accuracy: 0.9572\n",
            "Epoch 100/100\n",
            "29/29 [==============================] - 0s 8ms/step - loss: 0.1467 - accuracy: 0.9572\n"
          ]
        },
        {
          "data": {
            "text/plain": [
              "<keras.callbacks.History at 0x7f6fb8f61cd0>"
            ]
          },
          "execution_count": 102,
          "metadata": {},
          "output_type": "execute_result"
        }
      ],
      "source": [
        "ann.fit(X_train, y_train, batch_size = 32, epochs = 100)"
      ]
    },
    {
      "attachments": {},
      "cell_type": "markdown",
      "metadata": {
        "id": "tJj5k2MxZga3"
      },
      "source": [
        "## Part 4 - Making the predictions and evaluating the model"
      ]
    },
    {
      "cell_type": "code",
      "execution_count": 103,
      "metadata": {
        "id": "TILEH4Z-w0Ia"
      },
      "outputs": [],
      "source": [
        "pickle.dump(ann, open('ann.pkl', 'wb'))"
      ]
    },
    {
      "attachments": {},
      "cell_type": "markdown",
      "metadata": {
        "id": "TVdSxciSwza6"
      },
      "source": []
    },
    {
      "attachments": {},
      "cell_type": "markdown",
      "metadata": {
        "id": "u7yx47jPZt11"
      },
      "source": [
        "### Predicting the Test set results"
      ]
    },
    {
      "cell_type": "code",
      "execution_count": 104,
      "metadata": {
        "colab": {
          "base_uri": "https://localhost:8080/"
        },
        "id": "nIyEeQdRZwgs",
        "outputId": "09faffad-2229-411f-ae2e-802d66a8c990"
      },
      "outputs": [
        {
          "name": "stdout",
          "output_type": "stream",
          "text": [
            "8/8 [==============================] - 0s 2ms/step\n",
            "[[0 1]\n",
            " [1 1]\n",
            " [0 1]\n",
            " [0 0]\n",
            " [0 0]\n",
            " [0 1]\n",
            " [0 0]\n",
            " [0 1]\n",
            " [1 1]\n",
            " [0 0]\n",
            " [0 0]\n",
            " [0 0]\n",
            " [0 0]\n",
            " [1 1]\n",
            " [0 0]\n",
            " [0 0]\n",
            " [0 0]\n",
            " [0 0]\n",
            " [0 0]\n",
            " [0 0]\n",
            " [0 0]\n",
            " [0 0]\n",
            " [0 0]\n",
            " [0 0]\n",
            " [0 0]\n",
            " [0 0]\n",
            " [1 1]\n",
            " [0 0]\n",
            " [0 0]\n",
            " [0 0]\n",
            " [1 1]\n",
            " [1 1]\n",
            " [0 0]\n",
            " [1 1]\n",
            " [1 1]\n",
            " [1 1]\n",
            " [0 0]\n",
            " [0 0]\n",
            " [0 0]\n",
            " [0 0]\n",
            " [0 0]\n",
            " [0 0]\n",
            " [0 0]\n",
            " [0 0]\n",
            " [0 1]\n",
            " [0 0]\n",
            " [1 1]\n",
            " [0 0]\n",
            " [0 0]\n",
            " [1 1]\n",
            " [0 0]\n",
            " [1 1]\n",
            " [1 1]\n",
            " [0 0]\n",
            " [1 1]\n",
            " [1 1]\n",
            " [0 0]\n",
            " [0 0]\n",
            " [1 1]\n",
            " [1 1]\n",
            " [1 1]\n",
            " [0 0]\n",
            " [1 1]\n",
            " [0 0]\n",
            " [0 0]\n",
            " [0 0]\n",
            " [0 0]\n",
            " [0 0]\n",
            " [1 1]\n",
            " [0 0]\n",
            " [0 0]\n",
            " [1 1]\n",
            " [1 1]\n",
            " [0 0]\n",
            " [0 0]\n",
            " [0 1]\n",
            " [0 0]\n",
            " [0 0]\n",
            " [0 0]\n",
            " [0 0]\n",
            " [1 1]\n",
            " [0 0]\n",
            " [0 0]\n",
            " [0 0]\n",
            " [0 0]\n",
            " [0 1]\n",
            " [0 0]\n",
            " [0 0]\n",
            " [0 0]\n",
            " [0 0]\n",
            " [0 0]\n",
            " [0 0]\n",
            " [1 1]\n",
            " [1 1]\n",
            " [0 0]\n",
            " [0 0]\n",
            " [0 0]\n",
            " [0 0]\n",
            " [0 0]\n",
            " [1 1]\n",
            " [0 0]\n",
            " [0 0]\n",
            " [0 0]\n",
            " [1 1]\n",
            " [0 1]\n",
            " [0 0]\n",
            " [0 1]\n",
            " [0 0]\n",
            " [0 0]\n",
            " [0 1]\n",
            " [0 0]\n",
            " [0 0]\n",
            " [0 0]\n",
            " [0 0]\n",
            " [0 1]\n",
            " [0 0]\n",
            " [0 0]\n",
            " [1 1]\n",
            " [1 1]\n",
            " [0 0]\n",
            " [1 1]\n",
            " [0 1]\n",
            " [0 0]\n",
            " [0 0]\n",
            " [0 0]\n",
            " [0 0]\n",
            " [0 0]\n",
            " [0 0]\n",
            " [0 1]\n",
            " [0 0]\n",
            " [0 0]\n",
            " [0 0]\n",
            " [0 0]\n",
            " [1 1]\n",
            " [0 0]\n",
            " [0 0]\n",
            " [1 1]\n",
            " [0 0]\n",
            " [1 1]\n",
            " [0 0]\n",
            " [0 0]\n",
            " [0 0]\n",
            " [1 1]\n",
            " [0 0]\n",
            " [0 1]\n",
            " [0 0]\n",
            " [0 0]\n",
            " [0 0]\n",
            " [0 1]\n",
            " [0 0]\n",
            " [0 0]\n",
            " [0 0]\n",
            " [0 0]\n",
            " [0 0]\n",
            " [0 0]\n",
            " [0 0]\n",
            " [1 1]\n",
            " [1 1]\n",
            " [0 0]\n",
            " [1 1]\n",
            " [0 0]\n",
            " [0 0]\n",
            " [0 0]\n",
            " [1 1]\n",
            " [0 0]\n",
            " [0 0]\n",
            " [0 1]\n",
            " [0 0]\n",
            " [1 1]\n",
            " [0 0]\n",
            " [0 0]\n",
            " [0 0]\n",
            " [0 0]\n",
            " [0 0]\n",
            " [1 1]\n",
            " [0 0]\n",
            " [0 0]\n",
            " [1 1]\n",
            " [0 0]\n",
            " [1 1]\n",
            " [0 0]\n",
            " [0 0]\n",
            " [0 0]\n",
            " [0 0]\n",
            " [0 0]\n",
            " [0 0]\n",
            " [0 0]\n",
            " [0 0]\n",
            " [1 1]\n",
            " [0 0]\n",
            " [0 0]\n",
            " [0 1]\n",
            " [0 1]\n",
            " [1 1]\n",
            " [0 0]\n",
            " [0 0]\n",
            " [0 0]\n",
            " [1 1]\n",
            " [0 0]\n",
            " [1 1]\n",
            " [0 0]\n",
            " [0 0]\n",
            " [0 0]\n",
            " [1 1]\n",
            " [0 0]\n",
            " [0 0]\n",
            " [0 0]\n",
            " [0 0]\n",
            " [0 0]\n",
            " [0 0]\n",
            " [0 0]\n",
            " [0 0]\n",
            " [1 1]\n",
            " [0 1]\n",
            " [1 1]\n",
            " [0 0]\n",
            " [0 0]\n",
            " [0 0]\n",
            " [0 0]\n",
            " [0 0]\n",
            " [0 0]\n",
            " [0 0]\n",
            " [1 1]\n",
            " [0 0]\n",
            " [0 1]\n",
            " [1 1]\n",
            " [0 0]\n",
            " [0 0]]\n"
          ]
        }
      ],
      "source": [
        "y_pred = ann.predict(X_test)\n",
        "y_pred = (y_pred > 0.5)\n",
        "print(np.concatenate((y_pred.reshape(len(y_pred),1), y_test.reshape(len(y_test),1)),1))"
      ]
    },
    {
      "attachments": {},
      "cell_type": "markdown",
      "metadata": {
        "id": "o0oyfLWoaEGw"
      },
      "source": [
        "### Making the Confusion Matrix"
      ]
    },
    {
      "cell_type": "code",
      "execution_count": 105,
      "metadata": {},
      "outputs": [],
      "source": [
        "dataset = pd.read_csv('realtime.csv')\n",
        "#X is 2D array and get the first row\n",
        "sample = dataset.iloc[0:1, :].values\n",
        "\n",
        "#predict the result\n",
        "#how to use ann_model to predict the result"
      ]
    },
    {
      "cell_type": "code",
      "execution_count": 106,
      "metadata": {
        "colab": {
          "base_uri": "https://localhost:8080/"
        },
        "id": "ci6K_r6LaF6P",
        "outputId": "046126f3-4172-4f5c-e7dd-b2513ac6ec57"
      },
      "outputs": [
        {
          "name": "stdout",
          "output_type": "stream",
          "text": [
            "[[157   0]\n",
            " [ 20  51]]\n"
          ]
        },
        {
          "data": {
            "text/plain": [
              "0.9122807017543859"
            ]
          },
          "execution_count": 106,
          "metadata": {},
          "output_type": "execute_result"
        }
      ],
      "source": [
        "from sklearn.metrics import confusion_matrix, accuracy_score\n",
        "cm = confusion_matrix(y_test, y_pred)\n",
        "print(cm)\n",
        "accuracy_score(y_test, y_pred)"
      ]
    },
    {
      "cell_type": "code",
      "execution_count": 107,
      "metadata": {},
      "outputs": [
        {
          "data": {
            "text/plain": [
              "array([[0.66666667, 2.        , 1.        ]])"
            ]
          },
          "execution_count": 107,
          "metadata": {},
          "output_type": "execute_result"
        }
      ],
      "source": [
        "dataset = pd.read_csv('realtime.csv')\n",
        "#X is 2D array and get the first row\n",
        "sample = dataset.iloc[0:1, :].values\n",
        "sample"
      ]
    },
    {
      "cell_type": "code",
      "execution_count": 113,
      "metadata": {},
      "outputs": [
        {
          "name": "stdout",
          "output_type": "stream",
          "text": [
            "[[0.66666667 0.         0.        ]]\n",
            "1/1 [==============================] - 0s 57ms/step\n",
            "[[0.35671285]]\n"
          ]
        }
      ],
      "source": [
        "import pandas as pd\n",
        "import joblib\n",
        "import warnings\n",
        "\n",
        "filename = 'ann.pkl'\n",
        "ann_model = joblib.load(filename)\n",
        "dataset = pd.read_csv('realtime.csv')\n",
        "\n",
        "#read the second row data and convert it into 2D array\n",
        "sample = dataset.iloc[:, :].values\n",
        "print(sample)\n",
        "\n",
        "result = ann_model.predict(sample)\n",
        "#approximate the result to the nearest integer\n",
        "\n",
        "print(result)\n",
        "\n",
        "\n"
      ]
    },
    {
      "cell_type": "code",
      "execution_count": 2,
      "metadata": {},
      "outputs": [
        {
          "ename": "NameError",
          "evalue": "name 'pd' is not defined",
          "output_type": "error",
          "traceback": [
            "\u001b[0;31m---------------------------------------------------------------------------\u001b[0m",
            "\u001b[0;31mNameError\u001b[0m                                 Traceback (most recent call last)",
            "Cell \u001b[0;32mIn[2], line 3\u001b[0m\n\u001b[1;32m      1\u001b[0m \u001b[39mimport\u001b[39;00m \u001b[39mcsv\u001b[39;00m\n\u001b[1;32m      2\u001b[0m \u001b[39m#read the normal.csv file\u001b[39;00m\n\u001b[0;32m----> 3\u001b[0m normal2 \u001b[39m=\u001b[39m pd\u001b[39m.\u001b[39mread_csv(\u001b[39m'\u001b[39m\u001b[39mnormal.csv\u001b[39m\u001b[39m'\u001b[39m)\n\u001b[1;32m      5\u001b[0m \u001b[39m#mix the normal.csv file\u001b[39;00m\n\u001b[1;32m      6\u001b[0m normal2 \u001b[39m=\u001b[39m normal2\u001b[39m.\u001b[39msample(frac\u001b[39m=\u001b[39m\u001b[39m1\u001b[39m)\u001b[39m.\u001b[39mreset_index(drop\u001b[39m=\u001b[39m\u001b[39mTrue\u001b[39;00m)\n",
            "\u001b[0;31mNameError\u001b[0m: name 'pd' is not defined"
          ]
        }
      ],
      "source": [
        "import pandas as pd\n",
        "import csv\n",
        "#read the normal.csv file\n",
        "normal2 = pd.read_csv('normal.csv')\n",
        "\n",
        "#mix the normal.csv file\n",
        "normal2 = normal2.sample(frac=1).reset_index(drop=True)\n",
        "\n"
      ]
    }
  ],
  "metadata": {
    "colab": {
      "provenance": []
    },
    "kernelspec": {
      "display_name": "Python 3",
      "name": "python3"
    },
    "language_info": {
      "codemirror_mode": {
        "name": "ipython",
        "version": 3
      },
      "file_extension": ".py",
      "mimetype": "text/x-python",
      "name": "python",
      "nbconvert_exporter": "python",
      "pygments_lexer": "ipython3",
      "version": "3.8.17"
    }
  },
  "nbformat": 4,
  "nbformat_minor": 0
}
